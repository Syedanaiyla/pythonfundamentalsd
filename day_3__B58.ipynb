{
 "cells": [
  {
   "cell_type": "code",
   "execution_count": 1,
   "id": "7824f214",
   "metadata": {},
   "outputs": [],
   "source": [
    "full_name=\"syeda naiyla\""
   ]
  },
  {
   "cell_type": "code",
   "execution_count": 3,
   "id": "8186d103",
   "metadata": {},
   "outputs": [
    {
     "name": "stdout",
     "output_type": "stream",
     "text": [
      "syeda naiyla\n"
     ]
    }
   ],
   "source": [
    "print(full_name)"
   ]
  },
  {
   "cell_type": "code",
   "execution_count": 4,
   "id": "60c9b073",
   "metadata": {},
   "outputs": [],
   "source": [
    "# case 1: first letter of the name should be in capital "
   ]
  },
  {
   "cell_type": "code",
   "execution_count": 5,
   "id": "d7e3765b",
   "metadata": {},
   "outputs": [
    {
     "name": "stdout",
     "output_type": "stream",
     "text": [
      "Syeda Naiyla\n"
     ]
    }
   ],
   "source": [
    "print(full_name.title())"
   ]
  },
  {
   "cell_type": "code",
   "execution_count": null,
   "id": "d302cc12",
   "metadata": {},
   "outputs": [],
   "source": []
  },
  {
   "cell_type": "code",
   "execution_count": null,
   "id": "63b9d809",
   "metadata": {},
   "outputs": [],
   "source": [
    "#case 2: complete name should be in capital letters"
   ]
  },
  {
   "cell_type": "code",
   "execution_count": 6,
   "id": "2d98cdd2",
   "metadata": {},
   "outputs": [
    {
     "name": "stdout",
     "output_type": "stream",
     "text": [
      "SYEDA NAIYLA\n"
     ]
    }
   ],
   "source": [
    "print(full_name.upper())"
   ]
  },
  {
   "cell_type": "code",
   "execution_count": null,
   "id": "6d66adba",
   "metadata": {},
   "outputs": [],
   "source": []
  },
  {
   "cell_type": "code",
   "execution_count": null,
   "id": "eaca405e",
   "metadata": {},
   "outputs": [],
   "source": [
    "#case 3: full name should be in smaal letters"
   ]
  },
  {
   "cell_type": "code",
   "execution_count": 7,
   "id": "62989fb9",
   "metadata": {},
   "outputs": [
    {
     "name": "stdout",
     "output_type": "stream",
     "text": [
      "syeda naiyla\n"
     ]
    }
   ],
   "source": [
    "print(full_name.lower())"
   ]
  },
  {
   "cell_type": "code",
   "execution_count": null,
   "id": "7e05a152",
   "metadata": {},
   "outputs": [],
   "source": []
  },
  {
   "cell_type": "code",
   "execution_count": 18,
   "id": "20881770",
   "metadata": {},
   "outputs": [],
   "source": [
    "first_name = \"faiyasuddin\"\n",
    "last_name = \"shaik\""
   ]
  },
  {
   "cell_type": "code",
   "execution_count": null,
   "id": "c4a7f604",
   "metadata": {},
   "outputs": [],
   "source": []
  },
  {
   "cell_type": "code",
   "execution_count": 20,
   "id": "bc35d3db",
   "metadata": {},
   "outputs": [
    {
     "name": "stdout",
     "output_type": "stream",
     "text": [
      "faiyasuddin shaik\n"
     ]
    }
   ],
   "source": [
    "full_name = f\"{first_name} {last_name}\"\n",
    "print(full_name)"
   ]
  },
  {
   "cell_type": "code",
   "execution_count": 21,
   "id": "daf0dbd5",
   "metadata": {},
   "outputs": [
    {
     "name": "stdout",
     "output_type": "stream",
     "text": [
      "great teaching skills, faiyasuddin shaik\n"
     ]
    }
   ],
   "source": [
    "complement = f\"great teaching skills, {full_name}\"\n",
    "print(complement)"
   ]
  },
  {
   "cell_type": "code",
   "execution_count": null,
   "id": "8eaf2a4d",
   "metadata": {},
   "outputs": [],
   "source": []
  },
  {
   "cell_type": "code",
   "execution_count": 25,
   "id": "e99868c4",
   "metadata": {},
   "outputs": [
    {
     "name": "stdout",
     "output_type": "stream",
     "text": [
      "great teaching skills, Faiyasuddin Shaik\n"
     ]
    }
   ],
   "source": [
    "complement = f\"great teaching skills, {full_name.title()}\"\n",
    "print(complement)"
   ]
  },
  {
   "cell_type": "code",
   "execution_count": null,
   "id": "84c23fc4",
   "metadata": {},
   "outputs": [],
   "source": []
  },
  {
   "cell_type": "code",
   "execution_count": 26,
   "id": "d5d814e0",
   "metadata": {},
   "outputs": [
    {
     "name": "stdout",
     "output_type": "stream",
     "text": [
      "favourite_language:pythonc++javacjavascript\n"
     ]
    }
   ],
   "source": [
    "print(\"favourite_language:pythonc++javacjavascript\")"
   ]
  },
  {
   "cell_type": "code",
   "execution_count": 27,
   "id": "a0b46944",
   "metadata": {},
   "outputs": [
    {
     "name": "stdout",
     "output_type": "stream",
     "text": [
      "favorite_language:\n",
      "python\n",
      "c++\n",
      "java\n",
      "c\n",
      "javascript\n"
     ]
    }
   ],
   "source": [
    "print(\"favorite_language:\\npython\\nc++\\njava\\nc\\njavascript\")"
   ]
  },
  {
   "cell_type": "code",
   "execution_count": 28,
   "id": "1f393616",
   "metadata": {},
   "outputs": [
    {
     "name": "stdout",
     "output_type": "stream",
     "text": [
      "favourite_language:\n",
      "\tpython\n",
      "\tc++\n",
      "\tjava\n",
      "\tc\n",
      "\tjavascript\n"
     ]
    }
   ],
   "source": [
    "print(\"favourite_language:\\n\\tpython\\n\\tc++\\n\\tjava\\n\\tc\\n\\tjavascript\")"
   ]
  },
  {
   "cell_type": "code",
   "execution_count": null,
   "id": "439cf0db",
   "metadata": {},
   "outputs": [],
   "source": []
  },
  {
   "cell_type": "code",
   "execution_count": 29,
   "id": "0a80e350",
   "metadata": {},
   "outputs": [
    {
     "name": "stdout",
     "output_type": "stream",
     "text": [
      "grapes\n"
     ]
    }
   ],
   "source": [
    "name1 = \"grapes\"\n",
    "print(name1)"
   ]
  },
  {
   "cell_type": "markdown",
   "id": "5e1b447e",
   "metadata": {},
   "source": []
  },
  {
   "cell_type": "code",
   "execution_count": 30,
   "id": "32a638c9",
   "metadata": {},
   "outputs": [
    {
     "name": "stdout",
     "output_type": "stream",
     "text": [
      "    apple\n"
     ]
    }
   ],
   "source": [
    "name2 = \"    apple\"\n",
    "print(name2)"
   ]
  },
  {
   "cell_type": "code",
   "execution_count": 31,
   "id": "c09f629f",
   "metadata": {},
   "outputs": [
    {
     "name": "stdout",
     "output_type": "stream",
     "text": [
      "banana    \n"
     ]
    }
   ],
   "source": [
    "name3 = \"banana    \"\n",
    "print(name3)"
   ]
  },
  {
   "cell_type": "code",
   "execution_count": 32,
   "id": "e214263a",
   "metadata": {},
   "outputs": [
    {
     "data": {
      "text/plain": [
       "'apple'"
      ]
     },
     "execution_count": 32,
     "metadata": {},
     "output_type": "execute_result"
    }
   ],
   "source": [
    "name2.lstrip()"
   ]
  },
  {
   "cell_type": "code",
   "execution_count": 33,
   "id": "875b2db2",
   "metadata": {},
   "outputs": [
    {
     "data": {
      "text/plain": [
       "'banana'"
      ]
     },
     "execution_count": 33,
     "metadata": {},
     "output_type": "execute_result"
    }
   ],
   "source": [
    "name3.rstrip()"
   ]
  },
  {
   "cell_type": "code",
   "execution_count": null,
   "id": "b3e74849",
   "metadata": {},
   "outputs": [],
   "source": []
  },
  {
   "cell_type": "code",
   "execution_count": null,
   "id": "1ed0d2a1",
   "metadata": {},
   "outputs": [],
   "source": []
  },
  {
   "cell_type": "code",
   "execution_count": null,
   "id": "6502f5a7",
   "metadata": {},
   "outputs": [],
   "source": []
  },
  {
   "cell_type": "code",
   "execution_count": null,
   "id": "7a871b8e",
   "metadata": {},
   "outputs": [],
   "source": []
  },
  {
   "cell_type": "code",
   "execution_count": null,
   "id": "ccfd7e69",
   "metadata": {},
   "outputs": [],
   "source": []
  },
  {
   "cell_type": "code",
   "execution_count": null,
   "id": "89d746ee",
   "metadata": {},
   "outputs": [],
   "source": []
  },
  {
   "cell_type": "code",
   "execution_count": null,
   "id": "9ee7a44e",
   "metadata": {},
   "outputs": [],
   "source": []
  },
  {
   "cell_type": "code",
   "execution_count": null,
   "id": "f064502f",
   "metadata": {},
   "outputs": [],
   "source": []
  },
  {
   "cell_type": "code",
   "execution_count": null,
   "id": "f01e5ecf",
   "metadata": {},
   "outputs": [],
   "source": []
  },
  {
   "cell_type": "code",
   "execution_count": null,
   "id": "af57bbec",
   "metadata": {},
   "outputs": [],
   "source": []
  },
  {
   "cell_type": "code",
   "execution_count": null,
   "id": "bbde0698",
   "metadata": {},
   "outputs": [],
   "source": []
  },
  {
   "cell_type": "code",
   "execution_count": null,
   "id": "978194e7",
   "metadata": {},
   "outputs": [],
   "source": []
  },
  {
   "cell_type": "code",
   "execution_count": null,
   "id": "6b661537",
   "metadata": {},
   "outputs": [],
   "source": []
  },
  {
   "cell_type": "code",
   "execution_count": null,
   "id": "c24b605b",
   "metadata": {},
   "outputs": [],
   "source": []
  }
 ],
 "metadata": {
  "kernelspec": {
   "display_name": "Python 3",
   "language": "python",
   "name": "python3"
  },
  "language_info": {
   "codemirror_mode": {
    "name": "ipython",
    "version": 3
   },
   "file_extension": ".py",
   "mimetype": "text/x-python",
   "name": "python",
   "nbconvert_exporter": "python",
   "pygments_lexer": "ipython3",
   "version": "3.8.8"
  }
 },
 "nbformat": 4,
 "nbformat_minor": 5
}
